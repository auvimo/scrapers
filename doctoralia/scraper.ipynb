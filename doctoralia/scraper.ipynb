{
 "cells": [
  {
   "cell_type": "code",
   "execution_count": null,
   "id": "e1ec8a5b",
   "metadata": {},
   "outputs": [],
   "source": [
    "%load_ext autoreload\n",
    "%autoreload 2"
   ]
  },
  {
   "cell_type": "code",
   "execution_count": null,
   "id": "5bc39136",
   "metadata": {},
   "outputs": [],
   "source": [
    "import os\n",
    "website = os.path.basename(os.path.dirname(os.path.realpath('__file__')))"
   ]
  },
  {
   "cell_type": "code",
   "execution_count": null,
   "id": "5f08ad48",
   "metadata": {},
   "outputs": [],
   "source": [
    "import sys\n",
    "sys.path.insert(0, os.path.join(os.path.dirname(os.path.realpath('__file__')),'..'))"
   ]
  },
  {
   "cell_type": "code",
   "execution_count": null,
   "id": "1c8aa2e1",
   "metadata": {},
   "outputs": [],
   "source": [
    "import urllib, time\n",
    "import pandas as pd\n",
    "from doctoralia.scraper import DoctorScraper\n",
    "from cache import Cache\n",
    "from config import CSV_SEPARATOR, DT_FORMAT, URL_SHORTENER\n",
    "from helpers import create_download_link\n",
    "from pathlib import Path\n",
    "\n",
    "pd.set_option('display.max_colwidth', None)"
   ]
  },
  {
   "cell_type": "code",
   "execution_count": null,
   "id": "4db22051",
   "metadata": {},
   "outputs": [],
   "source": [
    "home_page = 'https://www.doctoralia.com.mx'\n",
    "speciality = 'Dermatólogo' \n",
    "location = 'Ciudad de México'\n",
    "path = f'buscar?q={urllib.parse.quote(speciality)}&loc={urllib.parse.quote(location)}'\n",
    "url = urllib.parse.urljoin(home_page, path)\n",
    "cache = Cache(expire_time=604800)\n",
    "headers = {}\n",
    "parser = 'lxml'"
   ]
  },
  {
   "cell_type": "code",
   "execution_count": null,
   "id": "bb8018a3",
   "metadata": {},
   "outputs": [],
   "source": [
    "s = DoctorScraper(url, cache, headers, parser)\n",
    "s.run()"
   ]
  },
  {
   "cell_type": "code",
   "execution_count": null,
   "id": "7d725ef6",
   "metadata": {},
   "outputs": [],
   "source": [
    "df = s.get_data()\n",
    "df.drop(['html'], axis=1).head(3)"
   ]
  },
  {
   "cell_type": "code",
   "execution_count": null,
   "id": "459ec690",
   "metadata": {},
   "outputs": [],
   "source": [
    "output_file = f'{website}_{time.strftime(DT_FORMAT)}.csv'\n",
    "create_download_link(df, filename=output_file, separator=CSV_SEPARATOR)"
   ]
  },
  {
   "cell_type": "code",
   "execution_count": null,
   "id": "2bbb5048",
   "metadata": {},
   "outputs": [],
   "source": [
    "output_file = str(Path.home() / \"Downloads\" / output_file)\n",
    "pd.read_csv(output_file, engine='python', sep=CSV_SEPARATOR).drop('html', axis=1).sample(5).style.hide()"
   ]
  }
 ],
 "metadata": {
  "kernelspec": {
   "display_name": "Python 3 (ipykernel)",
   "language": "python",
   "name": "python3"
  },
  "language_info": {
   "codemirror_mode": {
    "name": "ipython",
    "version": 3
   },
   "file_extension": ".py",
   "mimetype": "text/x-python",
   "name": "python",
   "nbconvert_exporter": "python",
   "pygments_lexer": "ipython3",
   "version": "3.11.3"
  }
 },
 "nbformat": 4,
 "nbformat_minor": 5
}
