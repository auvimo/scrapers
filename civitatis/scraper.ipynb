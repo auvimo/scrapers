{
 "cells": [
  {
   "cell_type": "code",
   "execution_count": null,
   "id": "c6422286",
   "metadata": {},
   "outputs": [],
   "source": [
    "%load_ext autoreload\n",
    "%autoreload 2"
   ]
  },
  {
   "cell_type": "code",
   "execution_count": null,
   "id": "4f6b0b43",
   "metadata": {},
   "outputs": [],
   "source": [
    "import os\n",
    "website = os.path.basename(os.path.dirname(os.path.realpath('__file__')))"
   ]
  },
  {
   "cell_type": "code",
   "execution_count": null,
   "id": "6c013503",
   "metadata": {},
   "outputs": [],
   "source": [
    "import sys, os\n",
    "sys.path.insert(0, os.path.join(os.path.dirname(os.path.realpath('__file__')),'..'))"
   ]
  },
  {
   "cell_type": "code",
   "execution_count": null,
   "id": "6fc1ba4f",
   "metadata": {},
   "outputs": [],
   "source": [
    "from cache import Cache\n",
    "import urllib, time\n",
    "from civitatis.scraper import ActivityScraper, ReviewScraper\n",
    "import pandas as pd\n",
    "from helpers import create_download_link\n",
    "from config import CSV_SEPARATOR, DT_FORMAT, URL_SHORTENER\n",
    "from pathlib import Path"
   ]
  },
  {
   "cell_type": "code",
   "execution_count": null,
   "id": "f7053ecd",
   "metadata": {},
   "outputs": [],
   "source": [
    "home_page = 'https://www.civitatis.com'\n",
    "path = 'es/puerto-de-la-cruz/'\n",
    "url = urllib.parse.urljoin(home_page, path)\n",
    "cache = Cache(expire_time=604800)\n",
    "headers = {'User-Agent': 'XY'}\n",
    "parser = 'lxml'"
   ]
  },
  {
   "cell_type": "code",
   "execution_count": null,
   "id": "ce2161da",
   "metadata": {},
   "outputs": [],
   "source": [
    "s = ActivityScraper(url, cache, headers, parser)\n",
    "s.run(f'Scraping {URL_SHORTENER.short(url)} ')"
   ]
  },
  {
   "cell_type": "code",
   "execution_count": null,
   "id": "2cec0f22",
   "metadata": {},
   "outputs": [],
   "source": [
    "df = s.get_data()\n",
    "df.drop(['html'], axis=1).head(3)"
   ]
  },
  {
   "cell_type": "code",
   "execution_count": null,
   "id": "abd8dbc7",
   "metadata": {},
   "outputs": [],
   "source": [
    "dfs = []\n",
    "paths = df.url.to_list()\n",
    "for activity_path in paths:\n",
    "    url = urllib.parse.urljoin(home_page, activity_path) + 'opiniones'\n",
    "    s = ReviewScraper(url, cache, headers, parser)\n",
    "    s.run(f'Scraping {URL_SHORTENER.short(url)} ')\n",
    "    df = s.get_data()\n",
    "    dfs.append(df)"
   ]
  },
  {
   "cell_type": "code",
   "execution_count": null,
   "id": "531eb3f0",
   "metadata": {},
   "outputs": [],
   "source": [
    "pd.set_option('display.max_colwidth', None)\n",
    "df = pd.concat(dfs)\n",
    "df.drop('html', axis=1).head(3)"
   ]
  },
  {
   "cell_type": "code",
   "execution_count": null,
   "id": "1f2bc39f",
   "metadata": {},
   "outputs": [],
   "source": [
    "output_file = f'{website}_{time.strftime(DT_FORMAT)}.csv'\n",
    "create_download_link(df, filename=output_file, separator=CSV_SEPARATOR)"
   ]
  },
  {
   "cell_type": "code",
   "execution_count": null,
   "id": "cda623af",
   "metadata": {},
   "outputs": [],
   "source": [
    "output_file = str(Path.home() / \"Downloads\" / output_file)\n",
    "pd.read_csv(output_file, engine='python', sep=CSV_SEPARATOR).drop('html', axis=1).sample(5).style.hide()"
   ]
  }
 ],
 "metadata": {
  "kernelspec": {
   "display_name": "Python 3 (ipykernel)",
   "language": "python",
   "name": "python3"
  },
  "language_info": {
   "codemirror_mode": {
    "name": "ipython",
    "version": 3
   },
   "file_extension": ".py",
   "mimetype": "text/x-python",
   "name": "python",
   "nbconvert_exporter": "python",
   "pygments_lexer": "ipython3",
   "version": "3.11.3"
  }
 },
 "nbformat": 4,
 "nbformat_minor": 5
}
