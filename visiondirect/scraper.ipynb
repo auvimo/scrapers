{
 "cells": [
  {
   "cell_type": "code",
   "execution_count": null,
   "id": "31b6e935",
   "metadata": {},
   "outputs": [],
   "source": [
    "%load_ext autoreload\n",
    "%autoreload 2"
   ]
  },
  {
   "cell_type": "code",
   "execution_count": null,
   "id": "d7b3cba0",
   "metadata": {},
   "outputs": [],
   "source": [
    "import os\n",
    "website = os.path.basename(os.path.dirname(os.path.realpath('__file__')))"
   ]
  },
  {
   "cell_type": "code",
   "execution_count": null,
   "id": "8f400036",
   "metadata": {},
   "outputs": [],
   "source": [
    "import sys\n",
    "sys.path.insert(0, os.path.join(os.path.dirname(os.path.realpath('__file__')),'..'))"
   ]
  },
  {
   "cell_type": "code",
   "execution_count": null,
   "id": "d64cde2f",
   "metadata": {},
   "outputs": [],
   "source": [
    "import urllib, time\n",
    "from cache import Cache\n",
    "from visiondirect.scraper import ProductScraper, ReviewScraper\n",
    "from config import CSV_SEPARATOR, DT_FORMAT, URL_SHORTENER\n",
    "from helpers import create_download_link\n",
    "import pandas as pd\n",
    "from pathlib import Path"
   ]
  },
  {
   "cell_type": "code",
   "execution_count": null,
   "id": "92447057",
   "metadata": {},
   "outputs": [],
   "source": [
    "home_page = 'https://www.visiondirect.es'\n",
    "path = 'marcas/alcon-lentillas-soluciones/'\n",
    "url = urllib.parse.urljoin(home_page, path)\n",
    "parsed_url = urllib.parse.urlparse(home_page)\n",
    "cache = Cache(expire_time=604800)\n",
    "headers = {'X-Requested-With': 'XMLHttpRequest',\n",
    "           'Authority': parsed_url.netloc,\n",
    "           'Method': 'GET',\n",
    "           'Schema': parsed_url.scheme,\n",
    "           'Accept': 'application/json, text/javascript, */*; q=0.01', \n",
    "           'Accept-Encoding': 'gzip, deflate, br', \n",
    "           'Accept-Language': 'es-ES,es;q=0.9', \n",
    "           'Content-Type': 'application/x-www-form-urlencoded; charset=UTF-8',\n",
    "           'Cookie': 'windowMngr={\"popup\":[]}; _gcl_au=1.1.955027986.1665481154; optimizelyEndUserId=oeu1665481153698r0.43681185182641147; _gid=GA1.2.660853205.1665481154; frontend=iekn2fd69imbqeit86hk6u0bm2; frontend_cid=peREF6RhI8MohKEK; tms_VisitorID=93stc0h6xh; _fbp=fb.1.1665481153967.2069137791; _pin_unauth=dWlkPU1UQTJaVEE1TURrdE56RXpOQzAwTnpNMkxUazNPREV0TkdOaVlUVmlZelJrTjJRMw; _clck=1if8k37|1|f5m|0; tms_wsip=1; _uetsid=911c5eb0494811ed8cd093e28f281d70; _uetvid=911c8d50494811ed8063154632619511; _ga=GA1.2.1693234919.1665481154; _clsk=nsqyk4|1665484842066|11|1|j.clarity.ms/collect; _ga_KD0GH5837J=GS1.1.1665484841.1.1.1665485049.0.0.0',\n",
    "           'Referer': 'https://www.visiondirect.es/dailies-aquacomfort-plus', \n",
    "           'Sec-Fetch-Dest': 'empty', \n",
    "           'Sec-Fetch-Mode': 'cors', \n",
    "           'Sec-Fetch-Site': 'same-origin', \n",
    "           'User-Agent': 'Mozilla/5.0 (Windows NT 10.0; Win64; x64) AppleWebKit/537.36 (KHTML, like Gecko) Chrome/105.0.5195.127 Safari/537.36'\n",
    "}\n",
    "parser = 'lxml'"
   ]
  },
  {
   "cell_type": "code",
   "execution_count": null,
   "id": "74952546",
   "metadata": {},
   "outputs": [],
   "source": [
    "s = ProductScraper(url, cache, headers, parser)\n",
    "s.run(f'Scraping {URL_SHORTENER.short(url)} ')"
   ]
  },
  {
   "cell_type": "code",
   "execution_count": null,
   "id": "a11deb50",
   "metadata": {},
   "outputs": [],
   "source": [
    "df = s.get_data()\n",
    "df.drop(['html'], axis=1).head(3)"
   ]
  },
  {
   "cell_type": "code",
   "execution_count": null,
   "id": "97547e18",
   "metadata": {},
   "outputs": [],
   "source": [
    "dfs = []\n",
    "for _, item in df.iterrows():\n",
    "    path = f'product-review/ajax/getReviewsByProductHtml?productId={item.product_id}&pageSize={item.review_count}'#'&pageNumber=1&_=1665484417232'\n",
    "    headers['path'] = path\n",
    "    url = urllib.parse.urljoin(f'{parsed_url.scheme}://{parsed_url.netloc}/', path)           \n",
    "    s = ReviewScraper(url, cache, headers, parser)\n",
    "    s.run(item.url, f'Scraping {URL_SHORTENER.short(item.url)} ')\n",
    "    df = s.get_data()\n",
    "    dfs.append(df)"
   ]
  },
  {
   "cell_type": "code",
   "execution_count": null,
   "id": "12452b50",
   "metadata": {},
   "outputs": [],
   "source": [
    "pd.set_option('display.max_colwidth', None)\n",
    "df = pd.concat(dfs)\n",
    "df.drop('html', axis=1).head(3)"
   ]
  },
  {
   "cell_type": "code",
   "execution_count": null,
   "id": "563d7fcb",
   "metadata": {},
   "outputs": [],
   "source": [
    "output_file = f'{website}_{time.strftime(DT_FORMAT)}.csv'\n",
    "create_download_link(df, filename=output_file, separator=CSV_SEPARATOR)"
   ]
  },
  {
   "cell_type": "code",
   "execution_count": null,
   "id": "3a96dbc3",
   "metadata": {},
   "outputs": [],
   "source": [
    "output_file = str(Path.home() / \"Downloads\" / output_file)\n",
    "pd.read_csv(output_file, engine='python', sep=CSV_SEPARATOR).drop('html', axis=1).sample(5).style.hide()"
   ]
  }
 ],
 "metadata": {
  "kernelspec": {
   "display_name": "Python 3 (ipykernel)",
   "language": "python",
   "name": "python3"
  },
  "language_info": {
   "codemirror_mode": {
    "name": "ipython",
    "version": 3
   },
   "file_extension": ".py",
   "mimetype": "text/x-python",
   "name": "python",
   "nbconvert_exporter": "python",
   "pygments_lexer": "ipython3",
   "version": "3.11.3"
  }
 },
 "nbformat": 4,
 "nbformat_minor": 5
}
